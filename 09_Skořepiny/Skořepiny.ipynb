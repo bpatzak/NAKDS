{
 "cells": [
  {
   "cell_type": "markdown",
   "metadata": {},
   "source": [
    "# Skořepiny\n",
    "\n",
    "Skořepiny jsou plošné konstrukce, jejichž tlouštka je mnohonásobně nižší než zbylé dva rozměry a jejichž střednicová rovina je zakřivená. Skořepiny kombinují působení stěn a desek, zatížení tedy není obecně omezeno směrem svého působení. Zvláštním případem skořepin jsou tzv. stěnodesky, které uvažují stejné vnitřní síly, ale předpokládájí nezakřivenou střednicovou rovinu. Zakřivení se v praxi využívá pro snížení velikosti měrných ohybových účinků a posouvajících sil, ideálním stavem je takový tvar konstrukce, kdy jsou ohybové momenty a posouvající síly nulové, tzv. membránový stav. Pro nenulové měrné momenty se jedná o stav ohybový.\n",
    "\n",
    "V průběhu let bylo navrženo několik různých přístupů, jak formulovat prvky pro skořepinové konstrukce. Z počátku bylo navrženo několik prvků, které byly díky interpolačním funkcím vyššího stupně schopny vystihnout zakřivený tvar konstrukce. Tato metoda se ukázala jako účinná, nicméně relativně časově náročná, proto se postupem času přešlo k práci na vývoji plochých prvků s interpolačními funkcemi nižšího stupně. Zakřivení konstrukce je v takovém případě modelováno pouze vhodným uspořádáním většího množství plochých prvků.\n",
    "\n",
    "U plochého prvku je ohybové a membránové chování nezávislé, podobně jako je tomu u nosníků. Díky této možnosti lze matici tuhosti plochého skořepinového prvku sestavit prostým součtem membránového a deskového prvku. \n",
    "\n",
    "Další možností, jak lze k analýze skořepin přistupovat je vyjít z třídimenzionální analýzy a upravit podmínky pro napětí a deformace s ohledem na chování skořepinových konstrukcí. Tento postup není závislý na žádné konkrétní teorii skořepin a může se tak jevit jako výhodnější. Na druhou stranu se ukázalo, že s nižším stupněm interpolačních funkcí se tento přístup potýká se smykovým zatuhnutím. Jako vhodné řešení tohoto problému se jeví použití redukované interpolace pro smykové složky napětí.\n",
    "\n",
    "### Základní vztahy pro skořepinové prvky\n",
    "\n",
    "V případě skořepin jsou uváženy posuny ve všech třech směrech, vektor posunutí má tedy tvar\n",
    "\n",
    "$\\displaystyle{\\pmb u = \\{u,v,w\\}^T.\n",
    "}$\n",
    "\n",
    "Pokud je skořepinový prvek sestaven kombinací stěnového a deskového prvku, je úloha formulována na základě vztahů pro stěny a pro desky s přihlédnutím ke konkrétní použité deskové teorii. Pokud je však prvek formulován na základě třídimenzionální analýzy, jsou uvažována následující pole deformací a napětí\n",
    "\n",
    "$\\displaystyle{\n",
    "\\pmb \\varepsilon = \\{\\varepsilon_{x},\\varepsilon_{y},\\gamma_{yz},\\gamma_{zx},\\gamma_{xy}\\}^T,\n",
    "}$\n",
    "\n",
    "$\\displaystyle{\n",
    "\\pmb \\sigma = \\{\\sigma_{x},\\sigma_{y},\\tau_{yz},\\tau_{zx},\\tau_{xy}\\}^T.\n",
    "}$\n",
    "\n",
    "Obdobně jako pro úlohu rovinné napjatosti je třeba upravit matici tuhosti materiálu, která je použita pro formulaci konstitutivních rovnic. Platí\n",
    "\n",
    "$\\displaystyle{\n",
    "\\pmb D=\\left[\n",
    "\\begin{array}{ccccc}\n",
    " 1 & \\nu & 0 & 0 & 0\\\\\n",
    " \\nu & 1 & 0 & 0 & 0\\\\\n",
    " 0 & 0 & k\\frac{1-\\nu}{2} & 0 & 0\\\\\n",
    " 0 & 0 & 0 & k\\frac{1-\\nu}{2} & 0\\\\\n",
    " 0 & 0 & 0 & 0 & \\frac{1-\\nu}{2} \n",
    "\\end{array}\\right].\n",
    "}\n",
    "$\n",
    "\n",
    "Vzhledem k uvážení pouze pěti složek pole deformací a pole napětí je třeba upravit geometrické rovnice, rovnice rovnováhy a okrajové podmínky (obdobně jako pro např. v případě [rovinné napjatosti](../07_Rovinné%20úlohy/include/Rovinná%20napjatost.ipynb)). "
   ]
  },
  {
   "cell_type": "markdown",
   "metadata": {},
   "source": [
    "## Prvky pro analýzu skořepin\n",
    "* #### [DKT+Stěnový prvek](Skořepinový%20prvek.ipynb)\n",
    "* #### [MITC4](MITC4.ipynb)"
   ]
  }
 ],
 "metadata": {
  "kernelspec": {
   "display_name": "Octave",
   "language": "octave",
   "name": "octave"
  },
  "language_info": {
   "file_extension": ".m",
   "help_links": [
    {
     "text": "GNU Octave",
     "url": "https://www.gnu.org/software/octave/support.html"
    },
    {
     "text": "Octave Kernel",
     "url": "https://github.com/Calysto/octave_kernel"
    },
    {
     "text": "MetaKernel Magics",
     "url": "https://github.com/calysto/metakernel/blob/master/metakernel/magics/README.md"
    }
   ],
   "mimetype": "text/x-octave",
   "name": "octave",
   "version": "4.2.1"
  }
 },
 "nbformat": 4,
 "nbformat_minor": 2
}
