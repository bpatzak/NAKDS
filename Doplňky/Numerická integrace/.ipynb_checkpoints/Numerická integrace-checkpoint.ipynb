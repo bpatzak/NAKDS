{
 "cells": [
  {
   "cell_type": "markdown",
   "metadata": {},
   "source": [
    "$\n",
    "\\newcommand{\\xincludegraphics}[1]{%\n",
    "  \\hspace*{50mm}\\includegraphics[height=100mm]{#1}}\n",
    "\\newcommand{\\mbf}[1]{\\boldsymbol{#1}}\n",
    "\\newcommand{\\del}[2]{\\mbox{$\\displaystyle\\frac{#1}{#2}$}}\n",
    "\\newcommand{\\pard}[2]{\\del{\\partial{#1}}{\\partial{#2}}}\n",
    "\\newcommand{\\term}[1]{{\\color{blue} #1}}\n",
    "\\newcommand{\\grads}{\\mbf{\\nabla}_s}\n",
    "\\newcommand{\\grad}{\\nabla}\n",
    "\\newcommand{\\vek}[1]{\\mbf{#1}} % Sloupcova matice = vektor \n",
    "\\newcommand{\\mtrx}[1]{\\mbf{#1}} % Matice\n",
    "\\newcommand{\\rmtrx}[1]{\\mbf{#1}} % Radkova matice\n",
    "\\newcommand{\\trn}{^{\\sf T}}\n",
    "\\newcommand{\\ppd}[2]{\\del{\\partial {#1}}{\\partial{#2}}}\n",
    "\\DeclareMathOperator*{\\assembly}{{\\sf A}}\n",
    "\\newcommand{\\vT}{\\delta T}\n",
    "\\newcommand{\\dt}{{\\Delta t}}\n",
    "\\newcommand{\\eps}{{\\varepsilon}}\n",
    "\\newcommand{\\us}{{u_s}}\n",
    "\\newcommand{\\vus}{{\\delta\\us}}\n",
    "$\n",
    "\n",
    "## Numerická integrace\n",
    "\n",
    "Slabé řešení vyžaduje výpočet integrálů, které lze jen výjimečně vyčíslit analyticky, proto se používá integrace numerická. Rozlišujeme různé metody numerické integrace, pro polynomiální funkce je zvláště výhodná Gaussova numerická integrace.\n",
    "\n",
    "### Gaussova numerická integrace\n",
    " "
   ]
  },
  {
   "cell_type": "markdown",
   "metadata": {},
   "source": [
    "Princip Gaussovy numerické integrace spočívá v zavedení aproximace integrované funkce pomocí polynomu a jeho následné integraci. Integrál funkce $f(x)$ pak vyjádříme následovně\n",
    "\n",
    " $\\displaystyle{\\int^1_{-1}f(\\xi)\\ d\\xi\\approx\\sum_{i=1}^nw_i\\ f(\\xi_i)},$\n",
    " \n",
    "kde $n$ je počet integračních bodů, $w_i$ je váha $\\xi_i$ souřadnice integračního bodu $i$. Souřadnice a váhy těchto tzv. Gaussových integračních bodů najdeme v tabulkách (viz níže). Vzhledem k tomu, že tabelované hodnoty uvažují oblast integrace $\\left<-1,1\\right>$, musíme skutečnou oblast $\\left<a, b\\right>$ \n",
    " namapovat na tento interval  \n",
    "\n",
    " $\\displaystyle{\\int^a_bf(x)\\ dx=\\int^1_{-1}f(\\xi)J\\ d\\xi\\approx\\sum_{i=1}^nw_i\\ f(\\xi_i) J(\\xi_i),}$\n",
    "\n",
    "kde $J$ je jakobián transformace daný vztahem\n",
    "\n",
    " $\\displaystyle{J=\\frac{dx}{d\\xi}}$.\n",
    "  \n",
    "Při použití $n$ integračních bodů je Gaussova integrace přesná pro integraci polynomu stupně maximálně $(2n-1)$.\n",
    "\n",
    "##### Tabulka Gaussových integračních bodů a vah\n",
    "\n",
    "$\\displaystyle{\\small{\n",
    "\\begin{array}{|l|l|l|}\n",
    "\\hline\n",
    "n& \\xi_i & w_i\\\\\n",
    "\\hline\n",
    "1 & 0.0 & 2.0\\\\\n",
    "\\hline\n",
    "2 & \\pm 1/\\sqrt{3} & 1.0 \\\\\n",
    "\\hline\n",
    "3 & \\pm 0.7745966692 & 0.555 555 5556\\\\\n",
    "  & 0.0 & 0.888 888 8889\\\\\n",
    "\\hline\n",
    "4 & \\pm 0.8611363116 & 0.347 854 8451\\\\\n",
    "& \\pm 0.3399810436 & 0.652 145 1549\\\\\n",
    "\\hline\n",
    "5 & \\pm 0.9061798459 & 0.236 926 8851\\\\\n",
    "& \\pm 0.5384693101 & 0.478 628 6705\\\\\n",
    "& 0.0 & 0.568 888 8889\\\\\n",
    "\\hline\n",
    "6 & \\pm 0.9324695142 & 0.171 324 4924\\\\\n",
    "& \\pm 0.6612093865 & 0.360 761 5730\\\\\n",
    "& \\pm 0.2386191861 & 0.467 913 9346\\\\\n",
    "\\hline\n",
    "\\end{array}}\n",
    "}$\n",
    " \n",
    " "
   ]
  },
  {
   "cell_type": "markdown",
   "metadata": {},
   "source": [
    " \n",
    "#### Numerická integrace ve více dimenzích\n",
    " \n",
    "Vícenásobný integrál lze vyčíslit jako produkt jednorozměrných integrací v příslušných směrech. Např. pro dvojný integrál máme\n",
    "    \n",
    " $\\displaystyle{\n",
    "    \\begin{array}{rcl}\n",
    "      \\displaystyle{\\int^1_{-1}\\int^1_{-1}f(\\xi,\\eta)\\ d\\xi d\\eta}\n",
    "      &\\approx&\\displaystyle{\\int^1_{-1}\\left(\\sum_{j=1}^nw_jf(\\xi,\\eta_j)\\right)d\\xi}\\\\\n",
    "      &\\approx&\\displaystyle{\\sum_{i=1}^{n}\\sum_{j=1}^nw_iw_jf(\\xi_i,\\eta_j)}\\\\\n",
    "      &=&\\displaystyle{\\sum_{i=1}^{n}\\sum_{j=1}^nw_{ij}f(\\xi_i,\\eta_j).}\n",
    "    \\end{array}\n",
    "    }$\n",
    " "
   ]
  }
 ],
 "metadata": {
  "kernelspec": {
   "display_name": "Octave",
   "language": "octave",
   "name": "octave"
  },
  "language_info": {
   "file_extension": ".m",
   "help_links": [
    {
     "text": "MetaKernel Magics",
     "url": "https://github.com/calysto/metakernel/blob/master/metakernel/magics/README.md"
    }
   ],
   "mimetype": "text/x-octave",
   "name": "octave",
   "version": "0.16.0"
  }
 },
 "nbformat": 4,
 "nbformat_minor": 2
}
