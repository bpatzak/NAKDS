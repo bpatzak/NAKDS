{
 "cells": [
  {
   "cell_type": "markdown",
   "metadata": {},
   "source": [
    "# Úvod do programování v Matlabu pro MKP\n",
    "\n",
    "\n",
    "Pro studenty ČVUT je dostupná studentská licence ke stažení z https://download.cvut.cz/ (po přihlášení). Nevýhodou této licence je nutnost připojení z IP adresy ČVUT. Open-source variantou Matlabu je Octave, volně dostupné ke stažení z https://www.gnu.org/software/octave/. Základní funkce by měly fungovat při spuštění v Matlabu i Octave stejně.\n",
    "\n",
    "### Obecné seznámení s programováním v Matlabu\n",
    "\n",
    "* #### [Prostředí](include/Prostředí.ipynb)\n",
    "* #### [Tipy a triky](include/Tipy%20a%20triky.ipynb)\n",
    "* #### [Maticové operace](include/Maticové%20operace.ipynb)\n",
    "* #### [Lokalizace a řešení soustavy](include/Lokalizace%20a%20řešení%20soustavy.ipynb)\n",
    "* #### [Cykly a podmínky](include/Cykly%20a%20podmínky.ipynb)\n",
    "* #### [Funkce](include/Funkce.ipynb)\n",
    "* #### [Grafický výstup](include/Grafický%20výstup.ipynb)\n",
    "\n",
    "### První MKP program\n",
    "\n",
    "* #### [Program](include/První%20MKP%20program%20v%20Matlabu.ipynb)\n"
   ]
  },
  {
   "cell_type": "markdown",
   "metadata": {},
   "source": [
    "Poznamky: doplnime uvod do prostredi JUPYTER"
   ]
  }
 ],
 "metadata": {
  "kernelspec": {
   "display_name": "Python 3",
   "language": "python",
   "name": "python3"
  },
  "language_info": {
   "codemirror_mode": {
    "name": "ipython",
    "version": 3
   },
   "file_extension": ".py",
   "mimetype": "text/x-python",
   "name": "python",
   "nbconvert_exporter": "python",
   "pygments_lexer": "ipython3",
   "version": "3.6.5"
  }
 },
 "nbformat": 4,
 "nbformat_minor": 2
}
