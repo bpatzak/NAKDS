{
 "cells": [
  {
   "cell_type": "markdown",
   "metadata": {},
   "source": [
    "## Lokalizace\n",
    "\n",
    "Při výpočtu metodou konečných prvků budeme potřebovat uspořádat (lokalizovat) jednotlivé matice tuhosti prvků do celkové matice tuhosti konstrukce, tento proces nazýváme lokalizací. Způsob, který budeme používat v našich cvičeních, využívá lokalizační matici (<code>loc</code>), kde na každý řádek zapisujeme kódová čísla stupňů volnosti  elementu."
   ]
  },
  {
   "cell_type": "code",
   "execution_count": 3,
   "metadata": {
    "collapsed": false,
    "scrolled": true
   },
   "outputs": [
    {
     "name": "stdout",
     "output_type": "stream",
     "text": [
      "loc =\n",
      "\n",
      "   1   2   3   4\n",
      "   3   4   5   6\n",
      "   5   6   7   8\n",
      "\n",
      "K =\n",
      "\n",
      "   1   1   1   1   0   0   0   0\n",
      "   1   1   1   1   0   0   0   0\n",
      "   1   1   3   3   2   2   0   0\n",
      "   1   1   3   3   2   2   0   0\n",
      "   0   0   2   2   5   5   3   3\n",
      "   0   0   2   2   5   5   3   3\n",
      "   0   0   0   0   3   3   3   3\n",
      "   0   0   0   0   3   3   3   3\n",
      "\n"
     ]
    }
   ],
   "source": [
    "E = 10^6;\n",
    "A = [1, 2, 3];\n",
    "l = 10;\n",
    "loc =  [1 2 3 4; \n",
    "        3 4 5 6; \n",
    "        5 6 7 8]\n",
    "\n",
    "K = zeros(8,8);\n",
    "\n",
    "for i = 1:size(loc,1)\n",
    "\n",
    "    k = stiffnessMatrix(E,A(i),l)  % element stiffness matrix \n",
    "    K(loc(i,:),loc(i,:)) = K(loc(i,:),loc(i,:)) + k;  % global stiffness matrix\n",
    "    K([1 2 3 4],[1 2 3 4])\n",
    "end\n",
    "K"
   ]
  },
  {
   "cell_type": "markdown",
   "metadata": {},
   "source": [
    "## Řešení soustavy\n",
    "\n",
    "Mějme soustavu lineárních rovnic $Ax = b$, kde"
   ]
  },
  {
   "cell_type": "code",
   "execution_count": 17,
   "metadata": {
    "collapsed": false
   },
   "outputs": [
    {
     "name": "stdout",
     "output_type": "stream",
     "text": [
      "A =\n",
      "\n",
      "   1   2   3\n",
      "  -1   0   2\n",
      "   1   3   1\n",
      "\n",
      "b =\n",
      "\n",
      "   1\n",
      "   0\n",
      "   0\n",
      "\n"
     ]
    }
   ],
   "source": [
    "A = [1 2 3; -1 0 2; 1 3 1] \n",
    "b = [1 0 0]'"
   ]
  },
  {
   "cell_type": "markdown",
   "metadata": {},
   "source": [
    "Pro řešení této soustavy lze využít inverzní matici $x = A^{-1}b$. Vhodnější je ale využít operátor <code>\\</code>, kterým je v Matlabu implementována Gaussova eliminace."
   ]
  },
  {
   "cell_type": "code",
   "execution_count": 20,
   "metadata": {
    "collapsed": false,
    "scrolled": true
   },
   "outputs": [
    {
     "name": "stdout",
     "output_type": "stream",
     "text": [
      "x =\n",
      "\n",
      "   0.66667\n",
      "  -0.33333\n",
      "   0.33333\n",
      "\n",
      "x =\n",
      "\n",
      "   0.66667\n",
      "  -0.33333\n",
      "   0.33333\n",
      "\n",
      "ans =\n",
      "\n",
      "  -1.1102e-16\n",
      "   0.0000e+00\n",
      "  -5.5511e-17\n",
      "\n"
     ]
    }
   ],
   "source": [
    "format short;\n",
    "% inverse\n",
    "x = inv(A)*b\n",
    "\n",
    "% Gauss elimination\n",
    "x = A\\b\n",
    "\n",
    "% check\n",
    "A*x1-b"
   ]
  }
 ],
 "metadata": {
  "kernelspec": {
   "display_name": "Octave",
   "language": "octave",
   "name": "octave"
  },
  "language_info": {
   "file_extension": ".m",
   "help_links": [
    {
     "text": "MetaKernel Magics",
     "url": "https://github.com/calysto/metakernel/blob/master/metakernel/magics/README.md"
    }
   ],
   "mimetype": "text/x-octave",
   "name": "octave",
   "version": "0.16.0"
  }
 },
 "nbformat": 4,
 "nbformat_minor": 1
}
