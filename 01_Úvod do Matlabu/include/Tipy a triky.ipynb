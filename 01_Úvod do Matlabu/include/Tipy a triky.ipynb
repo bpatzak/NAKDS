{
 "cells": [
  {
   "cell_type": "markdown",
   "metadata": {},
   "source": [
    "## Tipy a triky\n",
    "\n",
    "* <b>Klávesa F1</b>\n",
    "    * pomocí F1 spustíte nápovědu Matlabu, ve které celkem snadno najdete vše, co budete potřebovat\n",
    "    <br><br>\n",
    "* <b>Velikost písma</b>\n",
    "    * HOME -> Preferences -> Fonts\n",
    "    <br><br>\n",
    "* <b>Klávesové zkratky</b>\n",
    "    * HOME -> Preferences -> Keybord -> Shortcuts\n",
    "    <br><br>    \n",
    "* <b>Středníky</b>\n",
    "    * středník v editoru potlačuje výstup\n",
    "    * pokud příkaz (definici proměnné, přiřazení hodnoty proměnné, volání funkce, ...) nezakončíte středníkem, vypíše se celý obsah do Command Window $\\Rightarrow$ nepřehlednost, problémy při velkém objemu dat \n",
    "    * naopak hodnoty proměnných, které nás zajímají (výsledky, mezivýsledky, ...), můžeme vypsat tak, že středník neuvedeme \n",
    "        <br><br>    \n",
    "* <b>Komentáře</b>\n",
    "    * komentáře v Matlabu zapisujeme za znak <code>%</code>\n",
    "    * na začátek každého skriptu/funkce je vhodné okomentovat, k čemu slouží, jaké jsou vstupy a výstupy $\\Rightarrow$ pokud se budete chtít k práci vrátit po delší době nebo budete skript sdílet s kolegy, snadneji se zorientujete\n",
    "        <br><br>    \n",
    "* <b>Tři tečky ...</b>\n",
    "    * pro přehlednost kódu můžete použít odřádkování s využitím tří teček ...\n",
    "    * např. pokud zapisujete delší vzorec, můžete ukončit jeden řádek pomocí tří teček a pokračovat na dalším řádku\n",
    "    <br><br>    \n",
    "* <b>Jak poznáte, že Matlab stále pracuje?</b>\n",
    "    * jakmile spustíte skript, objeví se v levém dolním rohu <code>\"Busy\"</code> (na úvodním obrázku růžový rámeček)\n",
    "    * po dokončení posledního příkazu ze spuštěného skriptu, tento nápis zmizí\n",
    "        <br><br>    \n",
    "* <b>Něco je špatně, Matlab je stále <code>\"Busy\"</code></b>\n",
    "    * vykonání \"složitějších\" programů může být samozřejmě časově náročné, pokud ale proces trvá déle než byste předpokládali, může být chyba někde jinde (nekonečný cyklus, přehnaně velká soustava, ...)\n",
    "    * pokud chcete takový proces ukončit, stačí přepnout do Command Window a stisknout <b><code>Ctrl+C</code></b>\n",
    "        <br><br>    \n",
    "* <b>Chybová hlášení</b>\n",
    "    * při spuštění skriptu, ve kterém je nějaká syntaktická chyba nebo neplatná operace (např. násobení matic nekompatibilních velikostí), vypíše Matlab do Command Window chybová hlášení\n",
    "    * v chybovém hlášení je popsáno, v čem je chyba, a jsou uvedeny odkazy na řádky kódu, kde se chyba nachází\n",
    "        <br><br>    \n",
    "* <b>File is not found ...</b>\n",
    "    * pokud jste doposud pracovali v nějakém adresáři (cesta označená na prvním obrázku zeleně) a pokusíte se spustit skript, který máte uložený na jiném místě, dostanete následující hlášení\n",
    "    <img src=\"figures/notfound.png\">\n",
    "    * můžete si vybrat ze dvou variant\n",
    "        * volbou Change Folder změníte aktuální adresář na místo, kde se nachází spouštěný soubor, cesta k pracovnímu adresáři se změní a veškerá další práce bude probíhat v této složce\n",
    "        * volbou Add to Path přidáte cestu ke spouštěnému skriptu, ale cesta k pracovnímu adresáři zůstane beze změny\n",
    "        * <strong>tip: volbu Add to Path používejte pouze pokud spouštěný skript přímo souvisí s funkcemi, které máte uložené na místě, které bylo do teď pracovním adresářem, v opačném případě přepněte do složky, ze které skript voláte (všechny nově vytvořené funkce se budou ukládat tam a soubory, které spolu souvisí zůstanou pohromadě)</strong>\n",
    "<br><br>    \n",
    "* <b> Výsledkem je Inf / NaN</b>\n",
    "    * Matlab může jako výsledek nějaké číselné operace vrátit nečíselné hodnoty Inf nebo NaN\n",
    "         * Inf (infinity) - zastupuje nekonečno (např. pokud dojde k dělení nulou)\n",
    "         * NaN (not a number) - zastupuje hodnoty, které nejsou reálnými ani komplexními čísly (např. pokud dojde k dělení nuly nulou)"
   ]
  }
 ],
 "metadata": {
  "kernelspec": {
   "display_name": "Octave",
   "language": "octave",
   "name": "octave"
  },
  "language_info": {
   "file_extension": ".m",
   "help_links": [
    {
     "text": "MetaKernel Magics",
     "url": "https://github.com/calysto/metakernel/blob/master/metakernel/magics/README.md"
    }
   ],
   "mimetype": "text/x-octave",
   "name": "octave",
   "version": "0.16.0"
  }
 },
 "nbformat": 4,
 "nbformat_minor": 1
}
