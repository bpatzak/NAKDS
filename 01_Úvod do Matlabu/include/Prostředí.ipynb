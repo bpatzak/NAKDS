{
 "cells": [
  {
   "cell_type": "markdown",
   "metadata": {},
   "source": [
    "## Matlab\n",
    "\n",
    "### Prostředí\n",
    "\n",
    " <img src=\"figures/environment.png\">"
   ]
  },
  {
   "cell_type": "markdown",
   "metadata": {},
   "source": [
    "Na obrázku vidíte pravděpodobné defaultní nastavení Matlabu. Toto hlavní okno můžete ovládat pomocí funkcí pod prvními třemi záložkami (označeno žlutým rámečkem). Aktuálně je zapnuta záložka home, s její nabídkou (modrý rámeček) bychom si měli pro naši potřebu vystačit.\n",
    "\n",
    "Zeleným rámečkem je označena cesta k aktuálnímu pracovnímu adresáři, kam se nám bude veškerá práce ukládat. V dolní části okna vidíme:\n",
    "* Current Folder - průzkumník souborů\n",
    "* Command Window - obdoba konzole, jednoduché operace lze provádět přímo zde\n",
    "* Workspace - seznam proměnných aktuálně uložených v paměti\n",
    "* Editor \n",
    "\n",
    "V editoru je aktuálně otevřený skript <code>example01.m</code> (všechny matlabovské funkce a skripty mají koncovku <code>*.m</code>). V editoru můžeme skripty a funkce upravovat, spouštět a debugovat. Nabídka editoru je rozdělena do tří založek označených červeným rámečkem. Nejdůležitější pro nás bude záložka EDITOR.\n",
    "\n",
    " <img src=\"figures/editor.png\">\n"
   ]
  },
  {
   "cell_type": "markdown",
   "metadata": {},
   "source": [
    "### Způsob práce\n",
    "\n",
    "V Matlabu lze pracovat dvěma způsoby:\n",
    "\n",
    "* Práce v Command Window\n",
    "    * příkazy zapisujeme přimo do Command Window, Matlab vyhodnocuje operace postupně, tak jak je \"odesíláme\"\n",
    "    * vhodné pouze pro krátké výpočty (jednorázové řešení soustavy rovnic apod.)\n",
    "    \n",
    "* Práce v Editoru\n",
    "    * umožnuje vytvořit dávku příkazů, které zapíšeme do skriptu (a funkcí)\n",
    "    * skript potom spustíme jako celek, výstup se vypíše do Command Window\n",
    "    * lze přidávat komentáře\n",
    "    * skript je možné debugovat \n",
    "    * <strong> lze docílit přehledného zápisu, ke kterému se dá snadno vracet </strong>\n",
    "    \n",
    "    "
   ]
  },
  {
   "cell_type": "markdown",
   "metadata": {},
   "source": [
    "## Octave\n",
    "\n",
    "### Prostředí\n",
    "\n",
    "Octave je volně dostupné ke stažení z https://www.gnu.org/software/octave/.\n",
    "\n",
    " \n",
    "Octave lze ovládat z příkazové řádky, ale je dostupné i grafické rozhraní, které má obdobné uspořádání jako Matlab. \n",
    "Octave je z velké části kompatibilní s Matlabem, příkazy, které budeme používat, by měly fungovat při spuštění v Matlabu i Octave stejně.\n",
    " <img src=\"figures/octave.png\">\n",
    "Na obrázku je ukázáno okno Octave, červeným rámečkem je označeno přepínání mezi Editorem a Command Window. Práce v tomto prostředí je obdobná práci v Matlabu.\n",
    "\n"
   ]
  }
 ],
 "metadata": {
  "kernelspec": {
   "display_name": "Octave",
   "language": "octave",
   "name": "octave"
  },
  "language_info": {
   "file_extension": ".m",
   "help_links": [
    {
     "text": "MetaKernel Magics",
     "url": "https://github.com/calysto/metakernel/blob/master/metakernel/magics/README.md"
    }
   ],
   "mimetype": "text/x-octave",
   "name": "octave",
   "version": "0.16.0"
  }
 },
 "nbformat": 4,
 "nbformat_minor": 1
}
