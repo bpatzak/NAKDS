{
 "cells": [
  {
   "cell_type": "markdown",
   "metadata": {
    "collapsed": true
   },
   "source": [
    "## Rovinná příhradová konstrukce\n",
    "\n",
    "Ukážeme si základní strukturu programu pro řešení příhradové konstrukce. Příhradová konstrukce je složena z prutů namáhaných tahem/tlakem, které jsou kloubově pospojovány. V každém uzlu uvažujeme dva stupně volnosti - posun ve vodorovném směru a posun ve svislém směru. \n",
    "\n",
    "Číslování uzlů je znázorněno na obrázku, v hranatých závorkách jsou uvedena kódová čísla (číslování neznámých). Tuhost prutů $EA = 10^6$ kN. "
   ]
  },
  {
   "cell_type": "markdown",
   "metadata": {},
   "source": [
    " <img src=\"figures/prihradovina.png\" width = 650>"
   ]
  },
  {
   "cell_type": "markdown",
   "metadata": {},
   "source": [
    "#### Pole souřadnic\n",
    "\n",
    "Souřadnice jednotlivých uzlů uložíme do matice <code>xy</code>, první sloupec odpovídá souřadnicím x, druhý sloupec souřednicím y. Za účelem procvičení vygenerujeme pole souřadnic s využitím for cyklu. "
   ]
  },
  {
   "cell_type": "code",
   "execution_count": 7,
   "metadata": {},
   "outputs": [
    {
     "name": "stdout",
     "output_type": "stream",
     "text": [
      "xy =\n",
      "\n",
      "    0    0\n",
      "    4    0\n",
      "    8    0\n",
      "   12    0\n",
      "   16    0\n",
      "    0    3\n",
      "    4    3\n",
      "    8    3\n",
      "   12    3\n",
      "   16    3\n",
      "\n"
     ]
    }
   ],
   "source": [
    "% pocet elementu ve smeru x/y\n",
    "ex = 4; ey = 1;\n",
    "\n",
    "% delka elementu ve smeru x/y\n",
    "lx = 4; ly = 3;\n",
    "\n",
    "xy = []; % prazdna matice\n",
    "for i = 0:ey\n",
    "    for j = 0:ex\n",
    "        coords = [j*lx, i*ly];\n",
    "\n",
    "        % pridani souradnic uzlu na novy radek matice xy\n",
    "        xy = [xy; coords];\n",
    "    end\n",
    "end\n",
    "\n",
    "xy"
   ]
  },
  {
   "cell_type": "markdown",
   "metadata": {},
   "source": [
    "#### Lokalizační matice\n",
    "Nejdříve si vytvoříme matici, kam uložíme čísla uzlů pro jednotlivé pruty."
   ]
  },
  {
   "cell_type": "code",
   "execution_count": 8,
   "metadata": {},
   "outputs": [],
   "source": [
    "elems = [1 2;\n",
    "         2 3;\n",
    "         3 4;\n",
    "         4 5;\n",
    "         1 6;\n",
    "         2 6;\n",
    "         2 7;\n",
    "         3 7;\n",
    "         3 8;\n",
    "         4 8;\n",
    "         4 9;\n",
    "         5 9;\n",
    "         5 10;\n",
    "         6 7;\n",
    "         7 8;\n",
    "         8 9;\n",
    "         9 10];"
   ]
  },
  {
   "cell_type": "markdown",
   "metadata": {},
   "source": [
    "Řádky lokalizační matice obsahují kódová čísla odpovídající jednotlivým elementům. Tuto matici si můžeme vygenerovat z matice <code>elems</code>."
   ]
  },
  {
   "cell_type": "code",
   "execution_count": 14,
   "metadata": {},
   "outputs": [
    {
     "name": "stdout",
     "output_type": "stream",
     "text": [
      "lm =\n",
      "\n",
      "    1    2    3    4\n",
      "    3    4    5    6\n",
      "    5    6    7    8\n",
      "    7    8    9   10\n",
      "    1    2   11   12\n",
      "    3    4   11   12\n",
      "    3    4   13   14\n",
      "    5    6   13   14\n",
      "    5    6   15   16\n",
      "    7    8   15   16\n",
      "    7    8   17   18\n",
      "    9   10   17   18\n",
      "    9   10   19   20\n",
      "   11   12   13   14\n",
      "   13   14   15   16\n",
      "   15   16   17   18\n",
      "   17   18   19   20\n",
      "\n"
     ]
    }
   ],
   "source": [
    "nelem = size(elems, 1);  % pocet prvku\n",
    "lm = zeros(nelem, 4); \n",
    "for i = 1:nelem\n",
    "    lm(i,:) = [elems(i,1)*2-1, elems(i,1)*2, elems(i,2)*2-1, elems(i,2)*2];\n",
    "end\n",
    "lm"
   ]
  },
  {
   "cell_type": "markdown",
   "metadata": {},
   "source": [
    "#### Matice tuhosti \n",
    "\n",
    "\n",
    "Matice tuhosti $K$ zprostředkovává vztah mezi globálnı́mi koncovými silami $f$ a posuny $u$\n",
    "\n",
    "$\n",
    "Ku = f.\n",
    "$\n",
    "\n",
    "Matice tuhosti pro tažený-tlačený prut v rovině má tvar\n",
    "\n",
    "$\n",
    "{K}={{EA}\\over{l}}\\left[\\begin{array}{cccc}\n",
    "c^2&cs&-c^2&-cs\\\\\n",
    "cs&s^2&-cs& -s^2\\\\\n",
    "-c^2&-cs&c^2&cs\\\\\n",
    "-cs&-s^2&cs&s^2\n",
    "\\end{array}\\right],\\quad\\;\\;\\begin{array}{c}c=\\cos(\\phi^e)\\\\s=\\sin(\\phi^e)\\end{array},\n",
    "$\n",
    "\n",
    "kde $l$ je délka prvku a příslušné siny a cosiny napočítáme ze souřadnic uzlů prvku\n",
    "\n",
    "$\n",
    "c = \\frac{x_2 - x_1}{l}\\\\\n",
    "s = \\frac{y_2 - y_1}{l}.\n",
    "$\n",
    "\n",
    "Odvození matice tuhosti pro tažený-tlačený prut v rovině si ukážeme v některém z navazujících cvičení. \n",
    "\n",
    "Protože budeme potřebovat sestavit matici tuhosti pro každý ze 17 prvků, je vhodné vytvořit si pro její výpočet funkci. Takovou funkci potom budeme moci v našem programu volat opakovaně. Vstupními parametry takové funkce budou tuhost <code>EA</code> a souřadnice uzlů prvku <code>locxy</code>.\n"
   ]
  },
  {
   "cell_type": "code",
   "execution_count": 10,
   "metadata": {},
   "outputs": [],
   "source": [
    "% funkce pocita matici tuhosti tazeneho-tlaceneho prutu ve 2d\n",
    "% In: \n",
    "%   locxy - vektor souradnic uzlu prvku [x1, y1; x2, y2]\n",
    "%   EA- soucin modulu pruznosti a plochy\n",
    "%\n",
    "% Out:\n",
    "%   ke - matice tuhosti prvku (4,4)\n",
    "%\n",
    "function ke = stiffnessMatrix (locxy,EA) \n",
    "\n",
    "length=sqrt((locxy(2,1)-locxy(1,1))^2+(locxy(2,2)-locxy(1,2))^2);\n",
    "c = (locxy(2,1)-locxy(1,1))/length; c2=c^2;\n",
    "s = (locxy(2,2)-locxy(1,2))/length; s2=s^2;\n",
    "\n",
    "ke=(EA/length)*[c2 c*s -c2 -c*s;\n",
    "                c*s s2 -c*s -s2;\n",
    "                -c2 -c*s c2 c*s;\n",
    "                -c*s -s2 c*s s2];\n",
    "end"
   ]
  },
  {
   "cell_type": "markdown",
   "metadata": {},
   "source": [
    "#### Řešení"
   ]
  },
  {
   "cell_type": "code",
   "execution_count": 16,
   "metadata": {},
   "outputs": [
    {
     "name": "stdout",
     "output_type": "stream",
     "text": [
      "r =\n",
      "\n",
      "   0.0000e+00\n",
      "   0.0000e+00\n",
      "  -3.3333e-05\n",
      "  -2.3778e-04\n",
      "  -2.6667e-05\n",
      "  -3.2889e-04\n",
      "  -6.6667e-06\n",
      "  -2.3778e-04\n",
      "   0.0000e+00\n",
      "   0.0000e+00\n",
      "   3.8750e-05\n",
      "  -3.7500e-05\n",
      "  -1.2500e-06\n",
      "  -2.6028e-04\n",
      "  -5.4583e-05\n",
      "  -3.3639e-04\n",
      "  -9.4583e-05\n",
      "  -2.3028e-04\n",
      "  -9.4583e-05\n",
      "  -1.5000e-05\n",
      "\n"
     ]
    }
   ],
   "source": [
    "EA =1.e6;\n",
    "\n",
    "% kodova cisla zatizenych stupnu volnosti\n",
    "lf = [12, 14, 16, 18, 20];\n",
    "% velikost sil\n",
    "F = -5;\n",
    "\n",
    "% kodova cisla podeprenych stupnu volnosti\n",
    "up = [1, 2, 9, 10];\n",
    "\n",
    "% pocet prvku\n",
    "nelem=size(lm, 1);  % number of rows in lm matrix\n",
    "\n",
    "% pocet stupnu volnosti\n",
    "ndof = 2 * size(xy, 1); % two degrees of freedom in each node\n",
    "\n",
    "% nulovani vektoru zatizeni, matice tuhosti\n",
    "f=zeros(ndof,1);\n",
    "k=zeros(ndof);\n",
    "r=zeros(ndof,1);\n",
    "\n",
    "% sestaveni matic tuhosti\n",
    "for i = 1:nelem\n",
    "    ke = stiffnessMatrix([xy(elems(i,1), :); xy(elems(i,2),:)], EA);\n",
    "    % lokalizace\n",
    "    k(lm(i,:), lm(i,:)) += ke;    \n",
    "    % !: operator += funguje pouze v Octave, v Matlabu pouzijte: k = k + ke\n",
    "end\n",
    "\n",
    "% vektor zatizeni\n",
    "f(lf)=F;\n",
    "\n",
    "% reseni posunuti\n",
    "kuu=k;\n",
    "kuu(up,:) = [];\n",
    "kuu(:,up) = [];\n",
    "fu=f;\n",
    "fu(up) = [];\n",
    "\n",
    "u=kuu\\fu;\n",
    "\n",
    "% rekonstrukce celeho vektoru posunuti\n",
    "lm_r = 1:ndof;\n",
    "lm_r(up) = [];\n",
    "r = zeros(ndof, 1);\n",
    "\n",
    "r(lm_r) = u"
   ]
  },
  {
   "cell_type": "markdown",
   "metadata": {},
   "source": [
    "#### Vykreslení deformovaného tvaru konstrukce"
   ]
  },
  {
   "cell_type": "code",
   "execution_count": 18,
   "metadata": {},
   "outputs": [
    {
     "data": {
      "image/png": "[encoded data removed]",
      "text/plain": [
       "<IPython.core.display.Image object>"
      ]
     },
     "metadata": {},
     "output_type": "display_data"
    }
   ],
   "source": [
    "scale = 5e3;\n",
    "\n",
    "for i = 1:nelem\n",
    "    % puvodni tvar konstrukce\n",
    "    x = [xy(elems(i,1), 1); xy(elems(i,2), 1)];\n",
    "    y = [xy(elems(i,1), 2); xy(elems(i,2), 2)];\n",
    "    plot(x, y, 'b'); hold on;\n",
    "\n",
    "    % deformovany tvar konstrukce\n",
    "    ry  = r(lm(i,[2,4])) * scale;\n",
    "    rx  = r(lm(i,[1,3])) * scale;\n",
    "    plot(x+rx, y+ry, 'r'); hold on;\n",
    "end\n",
    "axis equal; axis([-0.5 16.5])\n",
    "    "
   ]
  },
  {
   "cell_type": "markdown",
   "metadata": {},
   "source": [
    "<div class=\"alert alert-block alert-info\">\n",
    "### Příklad k procvičení\n",
    "\n",
    "Zkuste si sami vytvořit podobný program pro řešení jednoduché příhradoviny dle obrázku.\n",
    "\n",
    "\n",
    "<img src=\"figures/du_prihradovina.png\" width=\"400\">\n",
    "\n",
    "##### Nápověda\n",
    "<i>\n",
    "Můžete převzít strukturu ukázaného programu, navíc můžete použít již vytvořené funkce (stiffnessMatrix). Vyjděte z ukázaného kódu v sekci \"Řešení\", na jeho začátek doplňte souřadnice uzlů a lokalizační matici, dále upravte inforace o okrajových podmínkách. Uvidíte, že zbytek programu může zůstat prakticky beze změny (pozor na vytvoření vektoru zatížení - rozdílné hodnoty sil).\n",
    "</i>\n",
    "\n",
    "\n",
    "</div>\n",
    "<font color=\"white\">\n",
    "c\n",
    "\n",
    "<\\font>"
   ]
  },
  {
   "cell_type": "code",
   "execution_count": 1,
   "metadata": {},
   "outputs": [],
   "source": [
    "% zde doplnte Vas program"
   ]
  }
 ],
 "metadata": {
  "kernelspec": {
   "display_name": "Octave",
   "language": "octave",
   "name": "octave"
  },
  "language_info": {
   "file_extension": ".m",
   "help_links": [
    {
     "text": "GNU Octave",
     "url": "https://www.gnu.org/software/octave/support.html"
    },
    {
     "text": "Octave Kernel",
     "url": "https://github.com/Calysto/octave_kernel"
    },
    {
     "text": "MetaKernel Magics",
     "url": "https://github.com/calysto/metakernel/blob/master/metakernel/magics/README.md"
    }
   ],
   "mimetype": "text/x-octave",
   "name": "octave",
   "version": "4.2.1"
  }
 },
 "nbformat": 4,
 "nbformat_minor": 2
}
