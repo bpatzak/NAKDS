{
 "cells": [
  {
   "cell_type": "markdown",
   "metadata": {},
   "source": [
    "## Skaláry, vektory, matice\n",
    "\n",
    "Název Matlab (\"Matrix laboratory\") napovídá, že toto prostředí je vhodné pro práci s maticemi, které jsou klíčovou datovou strukturou tohoto prostředí. Jako matice (nxn) jsou v Matlabu vnímány i skaláry (1x1) a vektory (řádkový 1xn, sloupcový nx1). "
   ]
  },
  {
   "cell_type": "code",
   "execution_count": 2,
   "metadata": {},
   "outputs": [
    {
     "name": "stdout",
     "output_type": "stream",
     "text": [
      "a =  1\n",
      "v =\n",
      "\n",
      "   1   2   3\n",
      "\n",
      "M =\n",
      "\n",
      "   1   2   3\n",
      "   2   3   4\n",
      "\n"
     ]
    }
   ],
   "source": [
    "% scalar\n",
    "a = 1\n",
    "\n",
    "% vector 1x3\n",
    "v = [1, 2, 3] \n",
    "\n",
    "% matrix 2x3\n",
    "M = [1, 2, 3;\n",
    "     2, 3, 4]    "
   ]
  },
  {
   "cell_type": "markdown",
   "metadata": {},
   "source": [
    "Matice zapisujeme do hranatých závorek, čárkou (nebo mezerou) oddělujeme sloupce, středníkem ukončujeme jednotlivé řádky matice. S využitím těchto znalostí můžeme vytvořit i řádkový a sloupcový vektor."
   ]
  },
  {
   "cell_type": "code",
   "execution_count": 3,
   "metadata": {},
   "outputs": [
    {
     "name": "stdout",
     "output_type": "stream",
     "text": [
      "vrow =\n",
      "\n",
      "   1   2   3\n",
      "\n",
      "vrow =\n",
      "\n",
      "   1   2   3\n",
      "\n",
      "vcol =\n",
      "\n",
      "   4\n",
      "   5\n",
      "   6\n",
      "\n"
     ]
    }
   ],
   "source": [
    "vrow = [1, 2, 3]   % row vector\n",
    "vrow = [1 2 3]     % row vector\n",
    "vcol = [4; 5; 6]   % column vector"
   ]
  },
  {
   "cell_type": "markdown",
   "metadata": {},
   "source": [
    "Transpozici získáme pomocí apostrofu."
   ]
  },
  {
   "cell_type": "code",
   "execution_count": 4,
   "metadata": {
    "scrolled": true
   },
   "outputs": [
    {
     "name": "stdout",
     "output_type": "stream",
     "text": [
      "vt =\n",
      "\n",
      "   4   5   6\n",
      "\n",
      "Mt =\n",
      "\n",
      "   1   2\n",
      "   2   3\n",
      "   3   4\n",
      "\n"
     ]
    }
   ],
   "source": [
    "vt = vcol'   % vcol = [4; 5; 6]\n",
    "Mt = M'      % m = [1, 2, 3; 2, 3, 4] "
   ]
  },
  {
   "cell_type": "markdown",
   "metadata": {},
   "source": [
    "K jednotlivým prvkům matic (vektorů) přistupujeme pomocí kulatých závorek a můžeme tak přiřazovat prvkům matice nové hodnoty. K prvkům matice můžeme přistupovat pomocí indexů řádku a sloupce (ř,s), méně časté je použití jednoho celkového indexu. \n",
    "\n",
    "Pomocí operátoru <code>:</code> lze přistupovat ke všem indexům daného řádku/sloupce nebo vybrat určitý rozsah.\n",
    "\n",
    "<em>Pozn: Matlab indexuje od 1 (narozdíl např. od jazyka C, kde je prvním indexem 0).</em>"
   ]
  },
  {
   "cell_type": "code",
   "execution_count": 5,
   "metadata": {},
   "outputs": [
    {
     "name": "stdout",
     "output_type": "stream",
     "text": [
      "a =  6\n",
      "b =  4\n",
      "c =  4\n",
      "Mcol2 =\n",
      "\n",
      "   2\n",
      "   3\n",
      "   4\n",
      "\n",
      "Mrow12 =\n",
      "\n",
      "   1   2\n",
      "   2   3\n",
      "\n",
      "Mt =\n",
      "\n",
      "   1   2\n",
      "   2   3\n",
      "   3   1\n",
      "\n",
      "Mt =\n",
      "\n",
      "   0   2\n",
      "   0   3\n",
      "   0   1\n",
      "\n"
     ]
    }
   ],
   "source": [
    "a = vt(3)\n",
    "b = Mt(3,2) \n",
    "c = Mt(6)\n",
    "Mcol2 = Mt(:,2)\n",
    "Mrow12 = Mt(1:2,:)\n",
    "\n",
    "Mt(3,2) = 1;\n",
    "Mt\n",
    "\n",
    "Mt(:,1) = [0 0 0]';\n",
    "Mt"
   ]
  },
  {
   "cell_type": "markdown",
   "metadata": {},
   "source": [
    "Operátor <code>:</code> lze také využít k vytvoření vektoru s ekvidistantně vzdálenými prvky. Defaultním krokem je 1, lze ho změnit uvedením kroku mezi první a poslední požadovaný prvek."
   ]
  },
  {
   "cell_type": "code",
   "execution_count": 6,
   "metadata": {},
   "outputs": [
    {
     "name": "stdout",
     "output_type": "stream",
     "text": [
      "v1 =\n",
      "\n",
      "   1   2   3   4   5\n",
      "\n",
      "v2 =\n",
      "\n",
      "    1.0000    1.2500    1.5000    1.7500    2.0000\n",
      "\n"
     ]
    }
   ],
   "source": [
    "v1 = 1:5\n",
    "v2 = 1:0.25:2"
   ]
  },
  {
   "cell_type": "markdown",
   "metadata": {},
   "source": [
    "Matice a vektory lze spojovat (v případě, že mají kompatibilní velikosti)."
   ]
  },
  {
   "cell_type": "code",
   "execution_count": 7,
   "metadata": {},
   "outputs": [
    {
     "name": "stdout",
     "output_type": "stream",
     "text": [
      "M1 =\n",
      "\n",
      "   1.0000   2.0000   3.0000   4.0000   5.0000\n",
      "   1.0000   1.2500   1.5000   1.7500   2.0000\n",
      "\n",
      "M2 =\n",
      "\n",
      "   1   2   3   4   5   1   2   3   4   5\n",
      "\n",
      "M3 =\n",
      "\n",
      "   1.0000   2.0000   3.0000   4.0000   5.0000\n",
      "   1.0000   1.2500   1.5000   1.7500   2.0000\n",
      "   1.0000   2.0000   3.0000   4.0000   5.0000\n",
      "   1.0000   1.2500   1.5000   1.7500   2.0000\n",
      "   1.0000   1.2500   1.5000   1.7500   2.0000\n",
      "\n",
      "M4 =\n",
      "\n",
      "   1.0000   2.0000   3.0000   4.0000   5.0000   1.0000\n",
      "   1.0000   1.2500   1.5000   1.7500   2.0000   2.0000\n",
      "   1.0000   2.0000   3.0000   4.0000   5.0000   3.0000\n",
      "   1.0000   1.2500   1.5000   1.7500   2.0000   4.0000\n",
      "   1.0000   1.2500   1.5000   1.7500   2.0000   5.0000\n",
      "\n"
     ]
    }
   ],
   "source": [
    "M1 = [v1;v2]\n",
    "M2 = [v1 v1]\n",
    "\n",
    "M3 = [M1;M1;v2]\n",
    "M4 = [M3,v1']"
   ]
  },
  {
   "cell_type": "markdown",
   "metadata": {},
   "source": [
    "Velikost matice lze zjistit pomocí funkce <code>size</code>, pro vektor ji lze také použít, ale existuje i speciální funkce <code>length</code>."
   ]
  },
  {
   "cell_type": "code",
   "execution_count": 8,
   "metadata": {
    "scrolled": true
   },
   "outputs": [
    {
     "name": "stdout",
     "output_type": "stream",
     "text": [
      "sM4 =\n",
      "\n",
      "   5   6\n",
      "\n",
      "rM4 =  5\n",
      "cM4 =  6\n",
      "cM2 =  10\n",
      "sv1 =  5\n",
      "sv1 =  5\n"
     ]
    }
   ],
   "source": [
    "sM4 = size(M4)\n",
    "rM4 = size(M4,1)\n",
    "cM4 = size(M4,2)\n",
    "\n",
    "cM2 = size(M2,2)\n",
    "sv1 = size(v1,2)\n",
    "sv1 = length(v1)"
   ]
  },
  {
   "cell_type": "markdown",
   "metadata": {},
   "source": [
    "Řádek/sloupec matice lze vymazat přiřazením prázdného vektoru <code>[]</code>."
   ]
  },
  {
   "cell_type": "code",
   "execution_count": 9,
   "metadata": {},
   "outputs": [
    {
     "name": "stdout",
     "output_type": "stream",
     "text": [
      "M4 =\n",
      "\n",
      "   1.0000   2.0000   3.0000   4.0000   5.0000   1.0000\n",
      "   1.0000   1.2500   1.5000   1.7500   2.0000   2.0000\n",
      "   1.0000   2.0000   3.0000   4.0000   5.0000   3.0000\n",
      "   1.0000   1.2500   1.5000   1.7500   2.0000   4.0000\n",
      "   1.0000   1.2500   1.5000   1.7500   2.0000   5.0000\n",
      "\n",
      "M4 =\n",
      "\n",
      "   4.0000   5.0000   1.0000\n",
      "   1.7500   2.0000   2.0000\n",
      "   4.0000   5.0000   3.0000\n",
      "   1.7500   2.0000   4.0000\n",
      "   1.7500   2.0000   5.0000\n",
      "\n"
     ]
    }
   ],
   "source": [
    "M4\n",
    "M4(:,1:3) = []"
   ]
  },
  {
   "cell_type": "markdown",
   "metadata": {},
   "source": [
    "Matlab umí automaticky vytvořit některé speciální matice: nulovou (<code>zeros</code>), jedničkovou (<code>ones</code>), jednotkovou (<code>eye</code>)."
   ]
  },
  {
   "cell_type": "code",
   "execution_count": 10,
   "metadata": {},
   "outputs": [
    {
     "name": "stdout",
     "output_type": "stream",
     "text": [
      "Mzeros =\n",
      "\n",
      "   0   0   0\n",
      "   0   0   0\n",
      "\n",
      "Mones =\n",
      "\n",
      "   1   1   1\n",
      "   1   1   1\n",
      "\n",
      "Meye =\n",
      "\n",
      "Diagonal Matrix\n",
      "\n",
      "   1   0   0\n",
      "   0   1   0\n",
      "\n"
     ]
    }
   ],
   "source": [
    "Mzeros = zeros(2,3)\n",
    "Mones = ones(2,3)\n",
    "Meye = eye(2,3)"
   ]
  },
  {
   "cell_type": "markdown",
   "metadata": {},
   "source": [
    "Matice lze mezi sebou scitat, odcitat, nasobit, delit, nasobit skalarem.<b> Pozor na kompatibilitu velikostí.</b>"
   ]
  },
  {
   "cell_type": "code",
   "execution_count": 11,
   "metadata": {},
   "outputs": [
    {
     "name": "stdout",
     "output_type": "stream",
     "text": [
      "ans =\n",
      "\n",
      "    4    6\n",
      "    8   10\n",
      "\n",
      "ans =\n",
      "\n",
      "  -2  -2\n",
      "  -2  -2\n",
      "\n",
      "ans =\n",
      "\n",
      "   13   16\n",
      "   29   36\n",
      "\n"
     ]
    }
   ],
   "source": [
    "M1 = [1 2; 3 4];\n",
    "M2 = [3 4; 5 6];\n",
    "\n",
    "M1 + M2\n",
    "M1 - M2\n",
    "M1 * M2"
   ]
  },
  {
   "cell_type": "markdown",
   "metadata": {},
   "source": [
    "Tečkový operátor lze použít k násobení (dělení, mocnění, ...) po prvcích."
   ]
  },
  {
   "cell_type": "code",
   "execution_count": 12,
   "metadata": {},
   "outputs": [
    {
     "name": "stdout",
     "output_type": "stream",
     "text": [
      "ans =\n",
      "\n",
      "    3    8\n",
      "   15   24\n",
      "\n"
     ]
    }
   ],
   "source": [
    "M1 .* M2"
   ]
  },
  {
   "cell_type": "markdown",
   "metadata": {},
   "source": [
    "Matice lze násobit a dělit skalárem."
   ]
  },
  {
   "cell_type": "code",
   "execution_count": 13,
   "metadata": {},
   "outputs": [
    {
     "name": "stdout",
     "output_type": "stream",
     "text": [
      "M3 =\n",
      "\n",
      "   6   6   6\n",
      "   6   6   6\n",
      "\n",
      "M4 =\n",
      "\n",
      "   0.33333   0.66667\n",
      "   1.00000   1.33333\n",
      "\n"
     ]
    }
   ],
   "source": [
    "M3 = ones(2,3) * 6\n",
    "M4 = M1 / 3"
   ]
  },
  {
   "cell_type": "markdown",
   "metadata": {},
   "source": [
    "Pro výpis vlastních čísel (a vlastních vektorů) lze použít funkci <code>eig()</code>."
   ]
  },
  {
   "cell_type": "code",
   "execution_count": 14,
   "metadata": {
    "scrolled": true
   },
   "outputs": [
    {
     "name": "stdout",
     "output_type": "stream",
     "text": [
      "eigvals =\n",
      "\n",
      "  -0.37228\n",
      "   5.37228\n",
      "\n",
      "vecs =\n",
      "\n",
      "  -0.82456  -0.41597\n",
      "   0.56577  -0.90938\n",
      "\n",
      "vals =\n",
      "\n",
      "Diagonal Matrix\n",
      "\n",
      "  -0.37228         0\n",
      "         0   5.37228\n",
      "\n"
     ]
    }
   ],
   "source": [
    "eigvals = eig(M1)   % eigenvalues\n",
    "[vecs, vals] = eig(M1)   % eigenvectors (in columns) and eigenvalues stored in a diagonal matrix (M1*vecs=vecs*vals)"
   ]
  },
  {
   "cell_type": "markdown",
   "metadata": {},
   "source": [
    "Inverzní matici získáme použitím funkce <code>inv()</code>."
   ]
  },
  {
   "cell_type": "code",
   "execution_count": 15,
   "metadata": {},
   "outputs": [
    {
     "name": "stdout",
     "output_type": "stream",
     "text": [
      "iM1 =\n",
      "\n",
      "  -2.00000   1.00000\n",
      "   1.50000  -0.50000\n",
      "\n",
      "ans =\n",
      "\n",
      "   1.00000   0.00000\n",
      "   0.00000   1.00000\n",
      "\n"
     ]
    }
   ],
   "source": [
    "iM1 = inv(M1)\n",
    "iM1 * M1    % check"
   ]
  }
 ],
 "metadata": {
  "kernelspec": {
   "display_name": "Octave",
   "language": "octave",
   "name": "octave"
  },
  "language_info": {
   "file_extension": ".m",
   "help_links": [
    {
     "text": "GNU Octave",
     "url": "https://www.gnu.org/software/octave/support.html"
    },
    {
     "text": "Octave Kernel",
     "url": "https://github.com/Calysto/octave_kernel"
    },
    {
     "text": "MetaKernel Magics",
     "url": "https://github.com/calysto/metakernel/blob/master/metakernel/magics/README.md"
    }
   ],
   "mimetype": "text/x-octave",
   "name": "octave",
   "version": "4.0.0"
  }
 },
 "nbformat": 4,
 "nbformat_minor": 1
}
