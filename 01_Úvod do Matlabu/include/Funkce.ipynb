{
 "cells": [
  {
   "cell_type": "markdown",
   "metadata": {},
   "source": [
    "## Funkce\n",
    "\n",
    "Pro psaní rozsáhlejších programů je vhodné rozčlenit program na jednotlivé funkce. Kód se tak stává přehlednější a jeho části můžeme volat opakovaně. Funkce jsou ukládány v samostatných souborech (<code>*.m</code>), Matlab požaduje, aby se název souboru shodoval se jménem funkce (jinak hlásí varování). \n",
    "\n",
    "Na prvním řádku m-souboru je funkce deklarována, následuje několik komentářových řádků (začínají <code>%</code>). Komentované řádky jsou Matlabem vnímány jako nápověda funkce a lze ji zobrazit voláním <code>help jmenofunkce</code>. Funkce je zakončena <code>end</code> (nepovinné)."
   ]
  },
  {
   "cell_type": "code",
   "execution_count": 22,
   "metadata": {
    "collapsed": true
   },
   "outputs": [],
   "source": [
    "function [m1, m2] = magicNumbers(num1, num2)\n",
    "%\n",
    "% This function returns two \"magic numbers\" calculated from two input numbers.\n",
    "%\n",
    "\n",
    "    m1 = floor((num1*10 - num2 * 3) / 6) - 3;  % function floor() rounds down the argument\n",
    "    m2 = ceil((num1*0.1 + num2 / 2) * 4) + 8;  % function ceil() rounds up the argument\n",
    "\n",
    "end"
   ]
  },
  {
   "cell_type": "markdown",
   "metadata": {},
   "source": [
    "Funkce je potom volána ze skriptu (nebo z jiné funkce) následovně:"
   ]
  },
  {
   "cell_type": "code",
   "execution_count": 23,
   "metadata": {},
   "outputs": [
    {
     "name": "stdout",
     "output_type": "stream",
     "text": [
      "magic1 =  7\n",
      "magic2 =  22\n",
      "magic3 = -17\n",
      "magic4 =  5\n"
     ]
    }
   ],
   "source": [
    "[magic1, magic2] = magicNumbers(8, 5)\n",
    "\n",
    "a = -8;\n",
    "b = 0;\n",
    "[magic3, magic4] = magicNumbers(a, b)"
   ]
  },
  {
   "attachments": {},
   "cell_type": "markdown",
   "metadata": {},
   "source": [
    "<pre>\n",
    "(c) Bořek Patzák, Zdeněk Bittnar, Edita Dvořáková. Katedra mechaniky, Fakulta Stavební ČVUT v Praze, \n",
    "The content licensed under <a href=\"https://creativecommons.org/licenses/by-sa/4.0/legalcode\">Attribution-ShareAlike 4.0</a> license.\n",
    "</pre>"
   ]
  }
 ],
 "metadata": {
  "kernelspec": {
   "display_name": "Octave",
   "language": "octave",
   "name": "octave"
  },
  "language_info": {
   "file_extension": ".m",
   "help_links": [
    {
     "text": "MetaKernel Magics",
     "url": "https://github.com/calysto/metakernel/blob/master/metakernel/magics/README.md"
    }
   ],
   "mimetype": "text/x-octave",
   "name": "octave",
   "version": "0.16.0"
  }
 },
 "nbformat": 4,
 "nbformat_minor": 1
}
