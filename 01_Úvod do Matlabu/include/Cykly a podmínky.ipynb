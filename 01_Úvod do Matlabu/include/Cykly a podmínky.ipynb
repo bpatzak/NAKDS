{
 "cells": [
  {
   "cell_type": "markdown",
   "metadata": {},
   "source": [
    "## Cykly a podmínky\n",
    "\n",
    "Důležitým nástrojem pro psaní programu jsou cykly a podmínky. Cykly umožňují provádět části kódu opakovaně (např. sestavit matici tuhosti pro všechny pruty konstrukce). Nám se bude hodit zejména <b><code>for</code></b> cyklus, který je proveden pro předem známý počet opakování. Dalším cyklem je <b><code>while</code></b> cyklus, který je vykonáván, dokud je zajištěna podmínka.\n",
    "\n",
    "Pomocí podmínek můžeme členit program do větví a provádět tak části kódu pouze při splnění nějaké podmínky (např. funkce bude vracet v závislosti na počtu Gaussových bodů, který zadáme, odpovídající souřadnice a váhy těchto bodů). Pro podmínky používáme klasické relační operátory $>, <, >=, <=, ==$ (rovná se), $\\sim=$ (nerovná se), <code>||</code> (nebo), <code>&&</code> (a zároveň).\n",
    "\n",
    "<strong>Častá chyba: Nezaměňujte operátor přiřazení $=$ s relačním operátorem $==$. Pokud zapíšete $a=1$ nejedná se o logický výraz, ale do proměnné $a$ uložíte hodnotu $1$. Naopak výraz $a==1$ má návratovou hodnotu $true$ $(1)$, pokud je $a$ rovno jedné, a $false$ $(0)$, pokud se $a$ jedné nerovná. </strong>\n",
    "\n",
    "#### <code>for</code> - provede předem známý počet opakování"
   ]
  },
  {
   "cell_type": "code",
   "execution_count": 23,
   "metadata": {
    "scrolled": true
   },
   "outputs": [
    {
     "name": "stdout",
     "output_type": "stream",
     "text": [
      "v =\n",
      "\n",
      "    2    4    6    8   10\n",
      "\n",
      "sum_j =  15\n"
     ]
    }
   ],
   "source": [
    "% number of cycles\n",
    "n = 5;\n",
    "\n",
    "% allocation of empty vector of size n\n",
    "v = zeros(1, 5);\n",
    "% [2 4 6 0 0]\n",
    "for i = 1:5\n",
    "    v(i) = 2*i;\n",
    "end\n",
    "\n",
    "v\n",
    "\n",
    "j = 1;\n",
    "sum_j = 0;\n",
    "while (j<10)\n",
    "    sum_j  = sum_j + j;\n",
    "    j = j*2;\n",
    "end\n",
    "\n",
    "sum_j "
   ]
  },
  {
   "cell_type": "markdown",
   "metadata": {
    "collapsed": true
   },
   "source": [
    "#### <code>if</code> (<code>elseif</code>) - pokud platí podmínka, provede dané příkazy "
   ]
  },
  {
   "cell_type": "code",
   "execution_count": 2,
   "metadata": {},
   "outputs": [
    {
     "name": "stdout",
     "output_type": "stream",
     "text": [
      "C1:\n",
      "a is equal 1\n",
      "C2:\n",
      "a is equal to d\n",
      "C3:\n",
      "a is not equal to 1 OR c is less or equal to 3\n",
      "C4:\n",
      "a is equal to 1 AND c is less or equal to 3\n"
     ]
    }
   ],
   "source": [
    "a = 1;\n",
    "b = 2;\n",
    "c = 3;\n",
    "d = 1;\n",
    "\n",
    "% Condition 1\n",
    "disp('C1:');\n",
    "if (a == 1)\n",
    "    disp('a is equal 1'); % function disp('...') prints string in the argument to the Command Window\n",
    "end\n",
    "  \n",
    "% Condition 2 \n",
    "disp('C2:'); \n",
    "if (a > d)\n",
    "    disp('a is greater than d');    \n",
    "elseif (a < d)\n",
    "    disp('a is less than d'); \n",
    "else \n",
    "    disp('a is equal to d'); \n",
    "end\n",
    "\n",
    "% Condition 3\n",
    "disp('C3:');\n",
    "if (a ~= 1 || c <=3)\n",
    "    disp('a is not equal to 1 OR c is less or equal to 3')\n",
    "end\n",
    "\n",
    "% Condition 4\n",
    "disp('C4:');\n",
    "if ((a == 1 && c <=3) || a > 10)\n",
    "    disp('a is equal to 1 AND c is less or equal to 3')\n",
    "end    "
   ]
  },
  {
   "cell_type": "markdown",
   "metadata": {},
   "source": [
    "#### <code>switch</code>  - obdoba <code>if</code> , vhodné pokud chceme v závislosti na jedné proměnné rozlišit více případů (vyhneme se několikanásobnému použití <code>elseif</code> )"
   ]
  },
  {
   "cell_type": "code",
   "execution_count": 17,
   "metadata": {},
   "outputs": [
    {
     "name": "stdout",
     "output_type": "stream",
     "text": [
      "Type of structure: beam\r\n"
     ]
    }
   ],
   "source": [
    "type = 'beam'; % string\n",
    "\n",
    "switch type\n",
    "    case 'truss'\n",
    "        disp('Type of structure: truss')\n",
    "    case 'beam'\n",
    "        disp('Type of structure: beam')\n",
    "    otherwise\n",
    "        disp('Unknown type of structure.')\n",
    "end"
   ]
  },
  {
   "cell_type": "markdown",
   "metadata": {},
   "source": [
    "<b><code>break, continue</code> - tyto příkazy slouží k ukončení aktuálního cyklu (<code>break</code>) nebo k ukončení aktuální iterace a pokračovaní další iterací (<code>continue</code>).</b>"
   ]
  },
  {
   "cell_type": "code",
   "execution_count": 18,
   "metadata": {},
   "outputs": [
    {
     "name": "stdout",
     "output_type": "stream",
     "text": [
      "Use of break in a cycle.\n",
      " 1\n",
      " 2\n",
      " 3\n",
      "Use of continue in a cycle.\n",
      "1  2  3  5  \n"
     ]
    }
   ],
   "source": [
    "% break\n",
    "disp ('Use of break in a cycle.');\n",
    "i = 0;\n",
    "while 1\n",
    "    i = i+1;\n",
    "    if i == 4\n",
    "        break;\n",
    "    end\n",
    "    disp(i);\n",
    "end\n",
    "\n",
    "% continue\n",
    "disp ('Use of continue in a cycle.');\n",
    "i = 0;\n",
    "while i < 5\n",
    "    i = i+1;\n",
    "    if i == 4\n",
    "        continue;\n",
    "    end\n",
    "    fprintf('%d  ',i);   % another way how to print the results\n",
    "end"
   ]
  }
 ],
 "metadata": {
  "kernelspec": {
   "display_name": "Octave",
   "language": "octave",
   "name": "octave"
  },
  "language_info": {
   "file_extension": ".m",
   "help_links": [
    {
     "text": "MetaKernel Magics",
     "url": "https://github.com/calysto/metakernel/blob/master/metakernel/magics/README.md"
    }
   ],
   "mimetype": "text/x-octave",
   "name": "octave",
   "version": "0.16.0"
  }
 },
 "nbformat": 4,
 "nbformat_minor": 1
}
