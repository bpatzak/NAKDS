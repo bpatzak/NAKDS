{
 "cells": [
  {
   "cell_type": "markdown",
   "metadata": {},
   "source": [
    "# Úvod do metody konečných prvků\n",
    "\n",
    "Metoda konečných prvků je základním stavebním prvkem převážné části dostupných softwarů pro numerickou analýzu konstrukcí. Ačkoliv umožňuje řešení komplikovaných inženýrských problémů, její základní myšlenky jsou vcelku jednoduché a jejich pochopení nám dává k dispozici možnost navrhnout si celkem snadno vlastní program k řešení libovolného problému. Díky tomu nemusíme slepě věřit výsledkům komerčních softwarů, které pro většinu uživatelů fungují jako \"černá skřínka\", ale můžeme sami kontrolovat, jaké aspekty budeme při výpočtu uvažovat, a navíc si můžeme dodatečně implementovat další potřebná rozšíření.\n",
    "\n",
    "Tato kapitola bude pro lepší orientaci dále rozdělena do několika částí:\n",
    " * [Úvod do teorie pružnosti ve 3D](Úvod%20do%20teorie%20pružnosti.ipynb) - opakování základních vztahů\n",
    " * [Jednorozměrná úloha pružnosti](Jednorozměrná%20úloha%20pružnosti.ipynb) - redukce z prostoru\n",
    " * [Úvod do MKP](Úvod%20do%20MKP.ipynb)\n",
    " * [Příklad](Příklad%20-%20tažený-tlačený%20prut.ipynb)"
   ]
  },
  {
   "attachments": {},
   "cell_type": "markdown",
   "metadata": {},
   "source": [
    "<pre>\n",
    "(c) Bořek Patzák, Zdeněk Bittnar, Edita Dvořáková. Katedra mechaniky, Fakulta Stavební ČVUT v Praze, \n",
    "The content licensed under <a href=\"https://creativecommons.org/licenses/by-sa/4.0/legalcode\">Attribution-ShareAlike 4.0</a> license.\n",
    "</pre>"
   ]
  }
 ],
 "metadata": {
  "kernelspec": {
   "display_name": "Octave",
   "language": "octave",
   "name": "octave"
  },
  "language_info": {
   "file_extension": ".m",
   "help_links": [
    {
     "text": "MetaKernel Magics",
     "url": "https://github.com/calysto/metakernel/blob/master/metakernel/magics/README.md"
    }
   ],
   "mimetype": "text/x-octave",
   "name": "octave",
   "version": "0.16.0"
  }
 },
 "nbformat": 4,
 "nbformat_minor": 2
}
