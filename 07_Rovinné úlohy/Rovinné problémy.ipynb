{
 "cells": [
  {
   "cell_type": "markdown",
   "metadata": {},
   "source": [
    "# Rovinné problémy\n",
    "\n",
    "Prostorové úlohy, ve kterých můžeme všechny veličiny (geometrii, materiálové vlastnosti, zatížení) vyjádřit nezávisle na jedné z prostorových proměnných, můžeme modelovat jako rovinné úlohy. Rozlišujeme tři základní typy rovinných úloh:\n",
    "\n",
    "* #### [Rovinná napjatost](include/Rovinná%20napjatost.ipynb) \n",
    " - dodatečným předpokladem (k nezávislosti veličin na jedné proměnné - $z$) je nulová složka tenzoru napětí $\\sigma_z$\n",
    " \n",
    " \n",
    "<img src=\"Figures/plane_stress.png\" width=200>\n",
    " \n",
    "* #### Rovinná deformace \n",
    " - dodatečným předpokladem je nulová složka tenzoru deformace $\\varepsilon_z$\n",
    " \n",
    "<img src=\"Figures/plane_strain.png\" width=220>\n",
    "\n",
    "* #### Rotačně symetrická úloha\n",
    "\n",
    "<img src=\"Figures/rot_sym.png\" width=170>"
   ]
  }
 ],
 "metadata": {
  "kernelspec": {
   "display_name": "Python 2",
   "language": "python",
   "name": "python2"
  },
  "language_info": {
   "codemirror_mode": {
    "name": "ipython",
    "version": 3
   },
   "file_extension": ".py",
   "mimetype": "text/x-python",
   "name": "python",
   "nbconvert_exporter": "python",
   "pygments_lexer": "ipython3",
   "version": "3.5.2"
  }
 },
 "nbformat": 4,
 "nbformat_minor": 2
}
