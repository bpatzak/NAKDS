{
 "cells": [
  {
   "cell_type": "markdown",
   "metadata": {},
   "source": [
    "# Rovinné problémy\n",
    "\n",
    "Prostorové úlohy, ve kterých můžeme všechny veličiny (geometrii, materiálové vlastnosti, zatížení) vyjádřit nezávisle na jedné z prostorových proměnných, můžeme modelovat jako rovinné úlohy. Rozlišujeme tři základní typy rovinných úloh:\n",
    "\n",
    "* #### [Rovinná napjatost](include/Rovinná%20napjatost.ipynb) \n",
    " - dodatečným předpokladem (k nezávislosti veličin na jedné proměnné - $z$) je nulová složka tenzoru napětí $\\sigma_z$\n",
    "* #### Rovinná deformace \n",
    " - dodatečným předpokladem je nulová složka tenzoru deformace $\\varepsilon_z$\n",
    "* #### Rotačně symetrická úloha\n"
   ]
  },
  {
   "cell_type": "markdown",
   "metadata": {},
   "source": [
    "<div class=\"alert alert-block alert-danger\">\n",
    "### TODO\n",
    "\n",
    "Doplnit priklady(ilustrace)?\n",
    "\n",
    "\n",
    "</div>\n",
    "<font color=\"white\">\n",
    ".\n",
    "<\\font>"
   ]
  }
 ],
 "metadata": {
  "kernelspec": {
   "display_name": "Python 3",
   "language": "python",
   "name": "python3"
  },
  "language_info": {
   "codemirror_mode": {
    "name": "ipython",
    "version": 3
   },
   "file_extension": ".py",
   "mimetype": "text/x-python",
   "name": "python",
   "nbconvert_exporter": "python",
   "pygments_lexer": "ipython3",
   "version": "3.5.2"
  }
 },
 "nbformat": 4,
 "nbformat_minor": 2
}
