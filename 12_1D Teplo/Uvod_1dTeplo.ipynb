{
 "cells": [
  {
   "cell_type": "markdown",
   "metadata": {},
   "source": [
    "# Jednorozměrná úloha vedení tepla\n",
    "\n",
    "Vedení tepla je základním příkladem transportních jevů. Při řešení úlohy vedení tepla je cílem stanovit rozložení teploty $T$ v závislosti na prostorové souřadnici. Dle závislosti na čase $t$ rozlišujeme dva základní typy úlohy:  \n",
    "\n",
    "* #### [Stacionární vedení tepla](Stacionární%20vedení%20tepla%20v%201D.ipynb)\n",
    "* #### [Nestacionární vedení tepla](Nestacionární%20vedení%20tepla%20v%201D.ipynb)\n"
   ]
  }
 ],
 "metadata": {
  "kernelspec": {
   "display_name": "Python 2",
   "language": "python",
   "name": "python2"
  },
  "language_info": {
   "codemirror_mode": {
    "name": "ipython",
    "version": 3
   },
   "file_extension": ".py",
   "mimetype": "text/x-python",
   "name": "python",
   "nbconvert_exporter": "python",
   "pygments_lexer": "ipython3",
   "version": "3.5.2"
  }
 },
 "nbformat": 4,
 "nbformat_minor": 2
}
