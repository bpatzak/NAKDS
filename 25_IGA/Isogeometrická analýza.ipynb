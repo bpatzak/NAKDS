{
 "cells": [
  {
   "cell_type": "markdown",
   "metadata": {},
   "source": [
    "# Isogeometrická analýza\n",
    "\n",
    "Metoda končných prvků se stala základním nástrojem pro analýzu (nejen) stavebních konstrukcí. Současná praxe většinou postupuje při návrhu konstrukce ve dvou hlavních krocích: \n",
    "\n",
    "   1. návrh konstrukce v CAD systému, \n",
    "   2. posouzení konstrukce v konečně-prvkovém softwaru.\n",
    "   \n",
    "Ačkoliv se jedná o zažitý postup, nekompatibilita mezi CAD a FEM modely vede k obvykle velice náročné transformaci z jednoho systému do druhého. Tato nekompatibilita spočívá v použití odlišných bázových funkcí. CAD systémy jsou založeny na spline bázích (nejčastěji NURBS - Non-Uniform Rational B-Splines), zatímco FEM využívá obvykle polynomiální bázi. Z CADovského modelu konstrukce musí být tedy vytvořena konečně-prvková síť, na které může být následně provedena analýza. Tento proces je časově náročný proces a obvykle nemůže být plně automatizován. Výsledná síť je navíc většinou pouze aproximací navržené geometrie (některé spline funkcemi snadno popsatelné geometrie, např. kuželosečky, nelze popsat pomocí polynomiální báze přesně) a do výpočtu jsou již na počátku vneseny nepřesnosti.\n",
    "\n",
    "Snaha zjednodušit a zpřesnit celý návrh konstrukce vedla k formulaci nové alternativy klasické metody konečných prvků,  Isogeometrické analýzy, kterou představil v roce 2005 T. Hughes a kol. (<i>T.J.R. Hughes, J.A. Cottrell, Y. Bazilevs, Isogeometric analysis: CAD, finite elements, NURBS, exact geometry and mesh refinement, Comput. Methods Appl. Mech. Engrg. 194 (2005) 4135-4195.</i>). Hlavní myšlenka Isogeometrické analýzy spočívá v použití spline funkcí nejen pro návrh geometrie, ale i pro samotnou analýzu. Díky takovému přístupu může v celém návrhu existovat pouze jediný model, sdílený jak pro návrh v CAD systému, tak pro samotnou FEM analýzu.\n",
    "\n",
    "### Non-Uniform Rational B-splines\n",
    "\n",
    "Pravděpodobně nejrozšířenější technologií v CADovském průmyslu jsou Non-Uniform Rational B-splines - NURBS. Vývoj této oblasti přinesl efektivní algoritmy pro práci s NURBS, ze kterých může Isogeometrická analýza profitovat. "
   ]
  },
  {
   "cell_type": "markdown",
   "metadata": {},
   "source": [
    "Konstrukce NURBS vychází z B-spline, což jsou po částech polynomiální funkce. B-spliny jsou dány rekurzivní formulí, kde se vychází z po částech konstantních funkcí\n",
    "\n",
    "$\\displaystyle{\n",
    " N_{i,0}(\\xi) = \\left\\{\n",
    " \\begin{array}{ll}\n",
    "  1 & \\hbox{pokud } \\xi_i\\le \\xi < \\xi_{i+1}\\\\\n",
    "  0 & \\hbox{jinak}\n",
    " \\end{array}\n",
    "\\right., \n",
    "}$\n",
    "\n",
    "kde $\\xi_i$ je souřadnice $i$-tého uzlu a $\\xi \\in (0,1)$ je parametrická souřadnice. B-spline funkce vyššího stupně je dána rekurzivní formulí\n",
    "\n",
    "$\\displaystyle{\n",
    " N_{i,p}(\\xi) = \\frac{\\xi-\\xi_i}{\\xi_{i+p}-\\xi_i}N_{i,p-1}(\\xi) + \\frac{\\xi_{i+p+1}-\\xi}{\\xi_{i+p+1}-\\xi_{i+1}}N_{i+1,p-1}(\\xi)\n",
    "}$\n",
    "\n",
    "kde $p$ stupeň dané B-spline funkce. K sestrojení NURBS báze je každé B-spline funkci přiřazena váha $w_i$, NURBS funkce je generována jako\n",
    "\n",
    "$\\displaystyle{ R_i^p(\\xi) = \\frac{N_{i,p}(\\xi)w_i}{\\sum_{\\hat{i}=1}^n N_{\\hat{i},p}(\\xi)w_i}.\n",
    "}$\n",
    "\n",
    "Z předchozího vztahu je patrné, že B-spline je speciální podmnožinou NURBS, která je získána, pokud jsou váhy jednotlivých funkcí shodné. NURBS křivka je dána lineární kombinací kontrolních bodů $\\boldsymbol{P}$ a odpovídajících NURBS funkcí\n",
    "\n",
    "$\\displaystyle{\n",
    " \\boldsymbol{C}(\\xi) = \\sum_{i=1}^n R_i^p (\\xi)\\boldsymbol{P_i}.\n",
    " }$"
   ]
  },
  {
   "cell_type": "markdown",
   "metadata": {},
   "source": [
    "knoty, kontrolni body, spojitost, knotspany, elementy"
   ]
  }
 ],
 "metadata": {
  "kernelspec": {
   "display_name": "Octave",
   "language": "octave",
   "name": "octave"
  },
  "language_info": {
   "file_extension": ".m",
   "help_links": [
    {
     "text": "GNU Octave",
     "url": "https://www.gnu.org/software/octave/support.html"
    },
    {
     "text": "Octave Kernel",
     "url": "https://github.com/Calysto/octave_kernel"
    },
    {
     "text": "MetaKernel Magics",
     "url": "https://github.com/calysto/metakernel/blob/master/metakernel/magics/README.md"
    }
   ],
   "mimetype": "text/x-octave",
   "name": "octave",
   "version": "4.2.1"
  }
 },
 "nbformat": 4,
 "nbformat_minor": 1
}
